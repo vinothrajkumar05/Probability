{
  "nbformat": 4,
  "nbformat_minor": 0,
  "metadata": {
    "colab": {
      "name": "Probability.ipynb",
      "provenance": [],
      "collapsed_sections": [],
      "include_colab_link": true
    },
    "kernelspec": {
      "name": "python3",
      "display_name": "Python 3"
    },
    "language_info": {
      "name": "python"
    }
  },
  "cells": [
    {
      "cell_type": "markdown",
      "metadata": {
        "id": "view-in-github",
        "colab_type": "text"
      },
      "source": [
        "<a href=\"https://colab.research.google.com/github/vinothrajkumar05/Probability/blob/main/Probability.ipynb\" target=\"_parent\"><img src=\"https://colab.research.google.com/assets/colab-badge.svg\" alt=\"Open In Colab\"/></a>"
      ]
    },
    {
      "cell_type": "code",
      "metadata": {
        "id": "WQQWysF6WRtN"
      },
      "source": [
        "import numpy as np\n",
        "import matplotlib.pyplot as plt"
      ],
      "execution_count": null,
      "outputs": []
    },
    {
      "cell_type": "markdown",
      "metadata": {
        "id": "ACXXnkWJW_GP"
      },
      "source": [
        "# **Fair Coin Simulation**\n",
        "\n",
        "\n",
        "\n"
      ]
    },
    {
      "cell_type": "code",
      "metadata": {
        "colab": {
          "base_uri": "https://localhost:8080/"
        },
        "id": "gk6U-XWUT6Dm",
        "outputId": "6fa65d9e-69e2-45ff-d5c9-9d5596e0c568"
      },
      "source": [
        "np.random.choice(['Tails','Heads'],size=2)"
      ],
      "execution_count": null,
      "outputs": [
        {
          "output_type": "execute_result",
          "data": {
            "text/plain": [
              "array(['Heads', 'Heads'], dtype='<U5')"
            ]
          },
          "metadata": {},
          "execution_count": 2
        }
      ]
    },
    {
      "cell_type": "code",
      "metadata": {
        "colab": {
          "base_uri": "https://localhost:8080/"
        },
        "id": "ebz5L0WpWfyd",
        "outputId": "5d73581c-30b8-4781-df30-5288145389e5"
      },
      "source": [
        "flips = np.random.choice([0,1],size=100) #outcome of 100 fair coin flips\n",
        "flips[:20]"
      ],
      "execution_count": null,
      "outputs": [
        {
          "output_type": "execute_result",
          "data": {
            "text/plain": [
              "array([0, 0, 1, 0, 1, 1, 1, 0, 0, 0, 0, 1, 1, 1, 0, 0, 0, 1, 0, 0])"
            ]
          },
          "metadata": {},
          "execution_count": 3
        }
      ]
    },
    {
      "cell_type": "code",
      "metadata": {
        "colab": {
          "base_uri": "https://localhost:8080/"
        },
        "id": "ET02BpZoXONs",
        "outputId": "beddba9b-4179-404c-9c9b-59ff20eead0f"
      },
      "source": [
        "print(\"P(Heads) : \",flips.sum()/len(flips))"
      ],
      "execution_count": null,
      "outputs": [
        {
          "output_type": "stream",
          "name": "stdout",
          "text": [
            "P(Heads) :  0.51\n"
          ]
        }
      ]
    },
    {
      "cell_type": "code",
      "metadata": {
        "colab": {
          "base_uri": "https://localhost:8080/"
        },
        "id": "0-NxeqBnYKTp",
        "outputId": "1061112f-176b-4988-e775-48037469ce5e"
      },
      "source": [
        "flips = np.random.choice([0,1],size=10000) \n",
        "print(\"P(Heads) : \",flips.sum()/len(flips))"
      ],
      "execution_count": null,
      "outputs": [
        {
          "output_type": "stream",
          "name": "stdout",
          "text": [
            "P(Heads) :  0.5038\n"
          ]
        }
      ]
    },
    {
      "cell_type": "markdown",
      "metadata": {
        "id": "GN6-d3qgXV-F"
      },
      "source": [
        "Empirical Probability very close to 0.5 - Fair coin"
      ]
    },
    {
      "cell_type": "markdown",
      "metadata": {
        "id": "CESmTFIVW-Bo"
      },
      "source": [
        "# **Biased Coin Simulation**"
      ]
    },
    {
      "cell_type": "code",
      "metadata": {
        "colab": {
          "base_uri": "https://localhost:8080/"
        },
        "id": "ldgP59leW24h",
        "outputId": "740f36f8-f708-454f-84d1-db51e7b3e0b4"
      },
      "source": [
        "flips = np.random.choice(['Tails','Heads'],size=10000,p=[0.2,0.8])\n",
        "flips[:10]"
      ],
      "execution_count": null,
      "outputs": [
        {
          "output_type": "execute_result",
          "data": {
            "text/plain": [
              "array(['Tails', 'Heads', 'Heads', 'Heads', 'Heads', 'Heads', 'Heads',\n",
              "       'Heads', 'Tails', 'Heads'], dtype='<U5')"
            ]
          },
          "metadata": {},
          "execution_count": 6
        }
      ]
    },
    {
      "cell_type": "code",
      "metadata": {
        "colab": {
          "base_uri": "https://localhost:8080/"
        },
        "id": "dG62-4E_F0L8",
        "outputId": "8d0ee1a5-e971-48e0-ce89-c674673d79a2"
      },
      "source": [
        "(flips == 'Heads')[:10]"
      ],
      "execution_count": null,
      "outputs": [
        {
          "output_type": "execute_result",
          "data": {
            "text/plain": [
              "array([False,  True,  True,  True,  True,  True,  True,  True, False,\n",
              "        True])"
            ]
          },
          "metadata": {},
          "execution_count": 7
        }
      ]
    },
    {
      "cell_type": "code",
      "metadata": {
        "colab": {
          "base_uri": "https://localhost:8080/"
        },
        "id": "fpteMEa7X7EJ",
        "outputId": "9e159a25-86a6-4fb1-9101-844f6eb00f88"
      },
      "source": [
        "print(\"P(Heads) : \",sum(flips == 'Heads')/len(flips))"
      ],
      "execution_count": null,
      "outputs": [
        {
          "output_type": "stream",
          "name": "stdout",
          "text": [
            "P(Heads) :  0.7993\n"
          ]
        }
      ]
    },
    {
      "cell_type": "code",
      "metadata": {
        "id": "NvHEDxJAZHnL"
      },
      "source": [
        "def binomial(n, prob):\n",
        "  return sum(np.random.choice([0,1],size=n,p=[(1-prob),prob]))"
      ],
      "execution_count": null,
      "outputs": []
    },
    {
      "cell_type": "code",
      "metadata": {
        "colab": {
          "base_uri": "https://localhost:8080/"
        },
        "id": "MfIGXUj9ZZiz",
        "outputId": "6922f934-5ff9-4ad5-b9ad-1cbcbe684fbc"
      },
      "source": [
        "experimentResults = np.array([binomial(10,0.2) for x in range(10000)])\n",
        "experimentResults[:10]"
      ],
      "execution_count": null,
      "outputs": [
        {
          "output_type": "execute_result",
          "data": {
            "text/plain": [
              "array([1, 2, 3, 3, 1, 2, 3, 4, 2, 3])"
            ]
          },
          "metadata": {},
          "execution_count": 41
        }
      ]
    },
    {
      "cell_type": "code",
      "source": [
        "from matplotlib import pyplot as plt\n",
        "import numpy as np\n",
        "fig, ax = plt.subplots(figsize =(10, 7))\n",
        "ax.hist(experimentResults,bins = 100)"
      ],
      "metadata": {
        "colab": {
          "base_uri": "https://localhost:8080/",
          "height": 928
        },
        "id": "haH34Y63aK4c",
        "outputId": "2064f3b5-7402-4946-b141-c5cec514b706"
      },
      "execution_count": null,
      "outputs": [
        {
          "output_type": "execute_result",
          "data": {
            "text/plain": [
              "(array([1.034e+03, 0.000e+00, 0.000e+00, 0.000e+00, 0.000e+00, 0.000e+00,\n",
              "        0.000e+00, 0.000e+00, 0.000e+00, 0.000e+00, 0.000e+00, 0.000e+00,\n",
              "        2.683e+03, 0.000e+00, 0.000e+00, 0.000e+00, 0.000e+00, 0.000e+00,\n",
              "        0.000e+00, 0.000e+00, 0.000e+00, 0.000e+00, 0.000e+00, 0.000e+00,\n",
              "        0.000e+00, 3.030e+03, 0.000e+00, 0.000e+00, 0.000e+00, 0.000e+00,\n",
              "        0.000e+00, 0.000e+00, 0.000e+00, 0.000e+00, 0.000e+00, 0.000e+00,\n",
              "        0.000e+00, 2.044e+03, 0.000e+00, 0.000e+00, 0.000e+00, 0.000e+00,\n",
              "        0.000e+00, 0.000e+00, 0.000e+00, 0.000e+00, 0.000e+00, 0.000e+00,\n",
              "        0.000e+00, 0.000e+00, 8.730e+02, 0.000e+00, 0.000e+00, 0.000e+00,\n",
              "        0.000e+00, 0.000e+00, 0.000e+00, 0.000e+00, 0.000e+00, 0.000e+00,\n",
              "        0.000e+00, 0.000e+00, 2.610e+02, 0.000e+00, 0.000e+00, 0.000e+00,\n",
              "        0.000e+00, 0.000e+00, 0.000e+00, 0.000e+00, 0.000e+00, 0.000e+00,\n",
              "        0.000e+00, 0.000e+00, 0.000e+00, 6.600e+01, 0.000e+00, 0.000e+00,\n",
              "        0.000e+00, 0.000e+00, 0.000e+00, 0.000e+00, 0.000e+00, 0.000e+00,\n",
              "        0.000e+00, 0.000e+00, 0.000e+00, 7.000e+00, 0.000e+00, 0.000e+00,\n",
              "        0.000e+00, 0.000e+00, 0.000e+00, 0.000e+00, 0.000e+00, 0.000e+00,\n",
              "        0.000e+00, 0.000e+00, 0.000e+00, 2.000e+00]),\n",
              " array([0.  , 0.08, 0.16, 0.24, 0.32, 0.4 , 0.48, 0.56, 0.64, 0.72, 0.8 ,\n",
              "        0.88, 0.96, 1.04, 1.12, 1.2 , 1.28, 1.36, 1.44, 1.52, 1.6 , 1.68,\n",
              "        1.76, 1.84, 1.92, 2.  , 2.08, 2.16, 2.24, 2.32, 2.4 , 2.48, 2.56,\n",
              "        2.64, 2.72, 2.8 , 2.88, 2.96, 3.04, 3.12, 3.2 , 3.28, 3.36, 3.44,\n",
              "        3.52, 3.6 , 3.68, 3.76, 3.84, 3.92, 4.  , 4.08, 4.16, 4.24, 4.32,\n",
              "        4.4 , 4.48, 4.56, 4.64, 4.72, 4.8 , 4.88, 4.96, 5.04, 5.12, 5.2 ,\n",
              "        5.28, 5.36, 5.44, 5.52, 5.6 , 5.68, 5.76, 5.84, 5.92, 6.  , 6.08,\n",
              "        6.16, 6.24, 6.32, 6.4 , 6.48, 6.56, 6.64, 6.72, 6.8 , 6.88, 6.96,\n",
              "        7.04, 7.12, 7.2 , 7.28, 7.36, 7.44, 7.52, 7.6 , 7.68, 7.76, 7.84,\n",
              "        7.92, 8.  ]),\n",
              " <a list of 100 Patch objects>)"
            ]
          },
          "metadata": {},
          "execution_count": 42
        },
        {
          "output_type": "display_data",
          "data": {
            "text/plain": [
              "<Figure size 720x504 with 1 Axes>"
            ],
            "image/png": "[encoded data removed]"
          },
          "metadata": {
            "needs_background": "light"
          }
        }
      ]
    },
    {
      "cell_type": "code",
      "metadata": {
        "colab": {
          "base_uri": "https://localhost:8080/"
        },
        "id": "1JCxd8RpGwvu",
        "outputId": "c18eb8e3-8d47-4f29-8b40-8c69d1a9fae6"
      },
      "source": [
        "print('P(5 Heads) : ', sum(experimentResults==3)/len(experimentResults))"
      ],
      "execution_count": null,
      "outputs": [
        {
          "output_type": "stream",
          "name": "stdout",
          "text": [
            "P(5 Heads) :  0.2029\n"
          ]
        }
      ]
    },
    {
      "cell_type": "markdown",
      "metadata": {
        "id": "nFdFxrgCYpcs"
      },
      "source": [
        "# **Dice Simulation**"
      ]
    },
    {
      "cell_type": "code",
      "metadata": {
        "colab": {
          "base_uri": "https://localhost:8080/"
        },
        "id": "Ehp_P_LlYOBP",
        "outputId": "81a3e8b7-0729-457c-d1f3-0cc7e152e838"
      },
      "source": [
        "diceRoll = np.random.choice([1,2,3,4,5,6],size=10000)\n",
        "diceRoll[:10]\n",
        "print(\"P(Die Roll = 1) = \", sum(diceRoll == 1)/len(diceRoll))"
      ],
      "execution_count": null,
      "outputs": [
        {
          "output_type": "stream",
          "name": "stdout",
          "text": [
            "P(Die Roll = 1) =  0.1695\n"
          ]
        }
      ]
    },
    {
      "cell_type": "code",
      "metadata": {
        "colab": {
          "base_uri": "https://localhost:8080/"
        },
        "id": "ZrhVcRQqYagD",
        "outputId": "8aa10af7-46c8-4116-f6a2-b474b0b60425"
      },
      "source": [
        "print(np.mean(diceRoll))\n",
        "print(np.var(diceRoll))"
      ],
      "execution_count": null,
      "outputs": [
        {
          "output_type": "stream",
          "name": "stdout",
          "text": [
            "3.4735\n",
            "2.8938977500000003\n"
          ]
        }
      ]
    },
    {
      "cell_type": "code",
      "metadata": {
        "id": "iVGktaUTIjQD"
      },
      "source": [
        "p = [1,2,3,4,5,6] "
      ],
      "execution_count": null,
      "outputs": []
    },
    {
      "cell_type": "markdown",
      "metadata": {
        "id": "vXDmRBMKaFtu"
      },
      "source": [
        "# **Number of trials before first success - Geometric**"
      ]
    },
    {
      "cell_type": "code",
      "metadata": {
        "id": "evZwuYlAaEbf"
      },
      "source": [
        "def geometric(prob):\n",
        "  count = 0\n",
        "  while True:\n",
        "    if np.random.choice(['H','T'], size=1, p = [prob,(1-prob)]) == 'H':\n",
        "      return (count + 1)\n",
        "    else:\n",
        "      count += 1"
      ],
      "execution_count": null,
      "outputs": []
    },
    {
      "cell_type": "code",
      "metadata": {
        "colab": {
          "base_uri": "https://localhost:8080/"
        },
        "id": "pkoBTE-eafsc",
        "outputId": "0015c068-e2c6-4f62-e736-a5ffaf84c3a1"
      },
      "source": [
        "geometric(0.5)"
      ],
      "execution_count": null,
      "outputs": [
        {
          "output_type": "execute_result",
          "data": {
            "text/plain": [
              "2"
            ]
          },
          "metadata": {},
          "execution_count": 17
        }
      ]
    },
    {
      "cell_type": "code",
      "metadata": {
        "colab": {
          "base_uri": "https://localhost:8080/"
        },
        "id": "1lcONUp3LIgb",
        "outputId": "faf708b8-489e-405f-d9fb-1b40903522b9"
      },
      "source": [
        "expResults = np.array([geometric(0.5) for x in range(10000)])\n",
        "print('P(X=3) : ', sum(expResults == 3)/len(expResults))"
      ],
      "execution_count": null,
      "outputs": [
        {
          "output_type": "stream",
          "name": "stdout",
          "text": [
            "P(X=3) :  0.1247\n"
          ]
        }
      ]
    },
    {
      "cell_type": "markdown",
      "metadata": {
        "id": "LZT_NNLgYyav"
      },
      "source": [
        "# **Interesting Experiments**"
      ]
    },
    {
      "cell_type": "markdown",
      "metadata": {
        "id": "WwaWiYxWY4uC"
      },
      "source": [
        "What is the probability of getting four consecutive heads in 10 coin flips ?"
      ]
    },
    {
      "cell_type": "code",
      "metadata": {
        "id": "8tZa8GKbYnkQ"
      },
      "source": [
        "def consecutiveHeads(rolls = 10, headsReq = 4, prob = 0.5):\n",
        "  flips = np.random.choice(['Tails','Heads'],size=rolls,p=[(1-prob),prob]) ## do 10 coin flips\n",
        "  consecHeads = 0\n",
        "  for outcome in flips:\n",
        "    if outcome == 'Heads':\n",
        "      consecHeads += 1\n",
        "    else:\n",
        "      consecHeads = 0\n",
        "    if consecHeads == headsReq:\n",
        "      return True\n",
        "  return False"
      ],
      "execution_count": null,
      "outputs": []
    },
    {
      "cell_type": "code",
      "metadata": {
        "colab": {
          "base_uri": "https://localhost:8080/"
        },
        "id": "jSOk5kYuc34Z",
        "outputId": "25c70453-8307-40c3-f9d7-a206065b5b20"
      },
      "source": [
        "expResults = np.array([consecutiveHeads(10,4,0.5) for x in range(10000)])\n",
        "expResults[:10]"
      ],
      "execution_count": null,
      "outputs": [
        {
          "output_type": "execute_result",
          "data": {
            "text/plain": [
              "array([False, False, False, False,  True, False, False, False, False,\n",
              "       False])"
            ]
          },
          "metadata": {},
          "execution_count": 20
        }
      ]
    },
    {
      "cell_type": "code",
      "metadata": {
        "colab": {
          "base_uri": "https://localhost:8080/"
        },
        "id": "a6ayp5S5dJSc",
        "outputId": "577ea2b6-b8e0-4f70-af7c-614ff440f293"
      },
      "source": [
        "print('p(Winning) : ', sum(expResults==True)/len(expResults))"
      ],
      "execution_count": null,
      "outputs": [
        {
          "output_type": "stream",
          "name": "stdout",
          "text": [
            "p(Winning) :  0.2459\n"
          ]
        }
      ]
    },
    {
      "cell_type": "markdown",
      "metadata": {
        "id": "vS5ibrpCvUYY"
      },
      "source": [
        "# **Dice Rolls**"
      ]
    },
    {
      "cell_type": "markdown",
      "metadata": {
        "id": "3nyJrdgldlhJ"
      },
      "source": [
        "What is the probability of getting a sum of less than or equal to 14 in 3 dice rolls?"
      ]
    },
    {
      "cell_type": "code",
      "metadata": {
        "id": "aiTPY-eTdkSf"
      },
      "source": [
        "def nDiceRolls(n):\n",
        "  return sum(np.random.choice([1,2,3,4,5,6],size=n,p=([1/6]*6)))"
      ],
      "execution_count": null,
      "outputs": []
    },
    {
      "cell_type": "code",
      "metadata": {
        "id": "DzFRN9BTe3Eb"
      },
      "source": [
        "expResults = [nDiceRolls(3) <= 14 for x in range(10000)]"
      ],
      "execution_count": null,
      "outputs": []
    },
    {
      "cell_type": "code",
      "metadata": {
        "colab": {
          "base_uri": "https://localhost:8080/"
        },
        "id": "ko4k00ZgfEf6",
        "outputId": "8fda1c59-51ab-49ba-a974-d2bc91832483"
      },
      "source": [
        "np.mean(expResults)"
      ],
      "execution_count": null,
      "outputs": [
        {
          "output_type": "execute_result",
          "data": {
            "text/plain": [
              "0.9058"
            ]
          },
          "metadata": {},
          "execution_count": 24
        }
      ]
    },
    {
      "cell_type": "markdown",
      "metadata": {
        "id": "Ay1Z6xECvNGq"
      },
      "source": [
        "# **Random card selection**"
      ]
    },
    {
      "cell_type": "markdown",
      "metadata": {
        "id": "NQ0HYPeca2FN"
      },
      "source": [
        "From a deck of 52 cards, we randomly choose 3 cards with replacement and sum the value of the cards, what is the average value which we get?\n",
        "Ace-0, Jack-11, Queen-12, King-13"
      ]
    },
    {
      "cell_type": "code",
      "metadata": {
        "colab": {
          "base_uri": "https://localhost:8080/"
        },
        "id": "XKocGvQJhI4z",
        "outputId": "da7ca757-cdc1-420a-f298-690b7008f004"
      },
      "source": [
        "np.mean([sum(np.random.choice([0,2,3,4,5,6,7,8,9,10,11,12,13], size = 3)) for i in range(10000)])"
      ],
      "execution_count": null,
      "outputs": [
        {
          "output_type": "execute_result",
          "data": {
            "text/plain": [
              "20.6939"
            ]
          },
          "metadata": {},
          "execution_count": 25
        }
      ]
    },
    {
      "cell_type": "code",
      "metadata": {
        "id": "AA6_n6uWazUB"
      },
      "source": [
        "def cardsSelect(numSelect):\n",
        "  return sum(np.random.choice([0,1,2,3,4,5,6,7,8,9,10,11,12,13]*4,size=numSelect))"
      ],
      "execution_count": null,
      "outputs": []
    },
    {
      "cell_type": "code",
      "metadata": {
        "colab": {
          "base_uri": "https://localhost:8080/"
        },
        "id": "_pb9nZL7cmmI",
        "outputId": "81ac2922-4b34-45a5-d1bc-e1e468b22140"
      },
      "source": [
        "expResults = [cardsSelect(3) for x in range(10000)]\n",
        "expResults[:10]"
      ],
      "execution_count": null,
      "outputs": [
        {
          "output_type": "execute_result",
          "data": {
            "text/plain": [
              "[31, 17, 22, 25, 14, 21, 23, 27, 14, 15]"
            ]
          },
          "metadata": {},
          "execution_count": 27
        }
      ]
    },
    {
      "cell_type": "code",
      "metadata": {
        "colab": {
          "base_uri": "https://localhost:8080/"
        },
        "id": "ZGfJRi_2eBRS",
        "outputId": "dd059333-3a08-4b97-8ea4-a73ff644f60e"
      },
      "source": [
        "np.mean(expResults)"
      ],
      "execution_count": null,
      "outputs": [
        {
          "output_type": "execute_result",
          "data": {
            "text/plain": [
              "19.4715"
            ]
          },
          "metadata": {},
          "execution_count": 28
        }
      ]
    },
    {
      "cell_type": "markdown",
      "metadata": {
        "id": "uv_EGE5qfxMV"
      },
      "source": [
        "# **Stock Market Simulation**"
      ]
    },
    {
      "cell_type": "markdown",
      "metadata": {
        "id": "2W-ci8vtvkz6"
      },
      "source": [
        "The price of an asset can go up Rs 5 in the next minute with a probability of 0.1 or can go down by Rs 2 with a probability of 0.2 or can stay the same. The average return of the asset post 15 minutes is ?"
      ]
    },
    {
      "cell_type": "code",
      "metadata": {
        "colab": {
          "base_uri": "https://localhost:8080/"
        },
        "id": "GaPHMNsBiU8Z",
        "outputId": "a4b85730-ed03-4099-be79-7ee2039103c8"
      },
      "source": [
        "np.mean([sum(np.random.choice([5,-2,0], size = 15, p = [0.1,0.2,0.7])) for i in range(10000)])"
      ],
      "execution_count": null,
      "outputs": [
        {
          "output_type": "execute_result",
          "data": {
            "text/plain": [
              "1.2861"
            ]
          },
          "metadata": {},
          "execution_count": 29
        }
      ]
    },
    {
      "cell_type": "code",
      "metadata": {
        "id": "Bz-oJ8wFvjdz"
      },
      "source": [
        "def StockMarket(totalTime, probs = [0,0,0]):\n",
        "  return sum(np.random.choice([5,-2,0], p = probs, size = 15))"
      ],
      "execution_count": null,
      "outputs": []
    },
    {
      "cell_type": "code",
      "metadata": {
        "colab": {
          "base_uri": "https://localhost:8080/"
        },
        "id": "FHxvkOPiw6Rs",
        "outputId": "75d6cfb7-bc8a-4f84-fb81-c11c25ce8f8e"
      },
      "source": [
        "expResults = [StockMarket(15,[0.1,0.2,0.7]) for x in range(100000)]\n",
        "np.mean(expResults)"
      ],
      "execution_count": null,
      "outputs": [
        {
          "output_type": "execute_result",
          "data": {
            "text/plain": [
              "1.47958"
            ]
          },
          "metadata": {},
          "execution_count": 31
        }
      ]
    },
    {
      "cell_type": "markdown",
      "metadata": {
        "id": "HfAU6Lg07jZV"
      },
      "source": [
        "# **Card picking - Game**"
      ]
    },
    {
      "cell_type": "markdown",
      "metadata": {
        "id": "LQmaZukq7oRz"
      },
      "source": [
        "Given a deck of playing cards, we pick a card at random. If the card is an Ace, the game stops. Else, we continue the game with the set of remaining cards (i.e no replacement). In how many cards the game will end on average?"
      ]
    },
    {
      "cell_type": "code",
      "metadata": {
        "id": "oNPbzlFx7fGU"
      },
      "source": [
        "def cardGame():\n",
        "  count = 0\n",
        "  while True:\n",
        "    if np.random.choice(['Ace','Not Ace'], size=1 , p = [(4/(52-count)), ((48-count)/(52-count))])[0] == 'Ace':\n",
        "      return (count + 1)\n",
        "    else:\n",
        "      count += 1\n"
      ],
      "execution_count": null,
      "outputs": []
    },
    {
      "cell_type": "code",
      "metadata": {
        "id": "9fDF_Bd09dsD"
      },
      "source": [
        "expResults = [cardGame() for x in range(10000)]\n"
      ],
      "execution_count": null,
      "outputs": []
    },
    {
      "cell_type": "markdown",
      "source": [
        "# Normal Distribution"
      ],
      "metadata": {
        "id": "lIO7JefoZACB"
      }
    },
    {
      "cell_type": "code",
      "source": [
        "experimentResults = np.array([binomial(10000,0.2) for x in range(10000)])"
      ],
      "metadata": {
        "id": "5nWGCmwgZK6v"
      },
      "execution_count": null,
      "outputs": []
    },
    {
      "cell_type": "code",
      "source": [
        "from matplotlib import pyplot as plt\n",
        "import numpy as np\n",
        "fig, ax = plt.subplots(figsize =(10, 7))\n",
        "ax.hist(experimentResults,bins = 100)"
      ],
      "metadata": {
        "colab": {
          "base_uri": "https://localhost:8080/",
          "height": 892
        },
        "id": "5Qhrw4EBZzzH",
        "outputId": "45c3767e-6ab0-439d-c7f2-3279a62078e7"
      },
      "execution_count": null,
      "outputs": [
        {
          "output_type": "execute_result",
          "data": {
            "text/plain": [
              "(array([  1.,   0.,   0.,   0.,   1.,   2.,   3.,   2.,   0.,   1.,   3.,\n",
              "          3.,   3.,   8.,   3.,   8.,   9.,  11.,  14.,  25.,  18.,  34.,\n",
              "         39.,  44.,  43.,  53.,  50.,  70.,  51.,  73.,  99., 114.,  97.,\n",
              "        119., 170., 155., 163., 165., 187., 185., 221., 238., 153., 264.,\n",
              "        255., 271., 276., 274., 302., 322., 304., 302., 285., 266., 279.,\n",
              "        317., 278., 174., 271., 240., 233., 231., 215., 196., 207., 184.,\n",
              "        165., 161., 105., 127., 106.,  80.,  88.,  74.,  76.,  59.,  50.,\n",
              "         57.,  53.,  33.,  36.,  24.,  26.,  20.,  15.,   6.,   9.,   7.,\n",
              "         10.,   5.,   4.,   8.,   3.,   1.,   0.,   2.,   3.,   1.,   0.,\n",
              "          2.]),\n",
              " array([1849.  , 1851.93, 1854.86, 1857.79, 1860.72, 1863.65, 1866.58,\n",
              "        1869.51, 1872.44, 1875.37, 1878.3 , 1881.23, 1884.16, 1887.09,\n",
              "        1890.02, 1892.95, 1895.88, 1898.81, 1901.74, 1904.67, 1907.6 ,\n",
              "        1910.53, 1913.46, 1916.39, 1919.32, 1922.25, 1925.18, 1928.11,\n",
              "        1931.04, 1933.97, 1936.9 , 1939.83, 1942.76, 1945.69, 1948.62,\n",
              "        1951.55, 1954.48, 1957.41, 1960.34, 1963.27, 1966.2 , 1969.13,\n",
              "        1972.06, 1974.99, 1977.92, 1980.85, 1983.78, 1986.71, 1989.64,\n",
              "        1992.57, 1995.5 , 1998.43, 2001.36, 2004.29, 2007.22, 2010.15,\n",
              "        2013.08, 2016.01, 2018.94, 2021.87, 2024.8 , 2027.73, 2030.66,\n",
              "        2033.59, 2036.52, 2039.45, 2042.38, 2045.31, 2048.24, 2051.17,\n",
              "        2054.1 , 2057.03, 2059.96, 2062.89, 2065.82, 2068.75, 2071.68,\n",
              "        2074.61, 2077.54, 2080.47, 2083.4 , 2086.33, 2089.26, 2092.19,\n",
              "        2095.12, 2098.05, 2100.98, 2103.91, 2106.84, 2109.77, 2112.7 ,\n",
              "        2115.63, 2118.56, 2121.49, 2124.42, 2127.35, 2130.28, 2133.21,\n",
              "        2136.14, 2139.07, 2142.  ]),\n",
              " <a list of 100 Patch objects>)"
            ]
          },
          "metadata": {},
          "execution_count": 39
        },
        {
          "output_type": "display_data",
          "data": {
            "text/plain": [
              "<Figure size 720x504 with 1 Axes>"
            ],
            "image/png": "[encoded data removed]"
          },
          "metadata": {
            "needs_background": "light"
          }
        }
      ]
    },
    {
      "cell_type": "markdown",
      "metadata": {
        "id": "FEiRy47RTQZS"
      },
      "source": [
        "# Hypothesis testing "
      ]
    },
    {
      "cell_type": "markdown",
      "metadata": {
        "id": "9oA1DwSoTj_8"
      },
      "source": [
        "coin = p heads = 0.7, tossed it 10 times and got the number of heads as 8. \n",
        "H0 : coin is fair => p(heads) = 0.5\n",
        "HA : coin is unfair\n",
        "Test statistic is 2*(#heads)^2 - 5.\n",
        "Under the null (assuming coin is fair) calculate the distribution of test statistic. "
      ]
    },
    {
      "cell_type": "code",
      "metadata": {
        "id": "YM5t06GzTPxb"
      },
      "source": [
        "import numpy as np\n",
        "\n",
        "def fairCoinTenTimesToss(n=10, p=0.5):\n",
        "  numHeads = sum(np.random.choice([0,1],p=[0.5,0.5], size=10))\n",
        "  return (2*(pow(numHeads,2)) - 5)"
      ],
      "execution_count": null,
      "outputs": []
    },
    {
      "cell_type": "code",
      "metadata": {
        "id": "nP9zJflJTMm4"
      },
      "source": [
        "distribution = [fairCoinTenTimesToss() for i in range(10000)]\n",
        "distribution[:10]"
      ],
      "execution_count": null,
      "outputs": []
    },
    {
      "cell_type": "code",
      "metadata": {
        "id": "krhjHAYwVcWw"
      },
      "source": [
        "import matplotlib.pyplot as plt\n",
        "_ = plt.hist(distribution, bins = 100)"
      ],
      "execution_count": null,
      "outputs": []
    },
    {
      "cell_type": "markdown",
      "metadata": {
        "id": "631viTNEV0yd"
      },
      "source": [
        "Real life , I observed 8 heads => real test statistic value = (2*(64)) - 5 = 123"
      ]
    },
    {
      "cell_type": "code",
      "metadata": {
        "id": "6ixM3UZ4VyrE"
      },
      "source": [
        "distr = np.array(distribution)\n",
        "print(\"Probability of observing the real test statistic value is : \", sum(distr > 123)/10000)"
      ],
      "execution_count": null,
      "outputs": []
    },
    {
      "cell_type": "markdown",
      "metadata": {
        "id": "1qWfiuUgWUAd"
      },
      "source": [
        "Probability of observing test statistic value less than the desired value is 0.9426"
      ]
    },
    {
      "cell_type": "markdown",
      "metadata": {
        "id": "fY22H9ALVbkO"
      },
      "source": [
        ""
      ]
    }
  ]
}